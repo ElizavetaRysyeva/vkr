{
  "cells": [
    {
      "cell_type": "markdown",
      "metadata": {
        "id": "view-in-github",
        "colab_type": "text"
      },
      "source": [
        "<a href=\"https://colab.research.google.com/github/ElizavetaRysyeva/vkr/blob/main/recommender_system.ipynb\" target=\"_parent\"><img src=\"https://colab.research.google.com/assets/colab-badge.svg\" alt=\"Open In Colab\"/></a>"
      ]
    },
    {
      "cell_type": "code",
      "execution_count": 1,
      "metadata": {
        "id": "V_d0Zk0a2f4A"
      },
      "outputs": [],
      "source": [
        "import pandas as pd\n",
        "import numpy as np\n",
        "\n",
        "import datetime\n",
        "import time\n",
        "\n",
        "%matplotlib inline\n",
        "import matplotlib.pyplot as plt\n",
        "import seaborn as sns\n",
        "\n",
        "from sklearn.model_selection import train_test_split\n",
        "from sklearn.linear_model import LogisticRegression\n",
        "from sklearn import metrics"
      ]
    },
    {
      "cell_type": "code",
      "execution_count": 2,
      "metadata": {
        "id": "PqQrwsE82f4D",
        "colab": {
          "base_uri": "https://localhost:8080/"
        },
        "outputId": "d8c5586e-d4f2-4141-cba4-af8b8c755de3"
      },
      "outputs": [
        {
          "output_type": "stream",
          "name": "stderr",
          "text": [
            "<ipython-input-2-2498b95a1fdc>:3: DtypeWarning: Columns (0) have mixed types. Specify dtype option on import or set low_memory=False.\n",
            "  item_properties_1_df = pd.read_csv('item_properties_part1.csv')\n"
          ]
        }
      ],
      "source": [
        "events_df = pd.read_csv('events.csv')\n",
        "category_tree_df = pd.read_csv('category_tree.csv')\n",
        "item_properties_1_df = pd.read_csv('item_properties_part1.csv')\n",
        "item_properties_2_df = pd.read_csv('item_properties_part2.csv')"
      ]
    },
    {
      "cell_type": "code",
      "execution_count": 3,
      "metadata": {
        "id": "KYIfnNCQ2f4D",
        "colab": {
          "base_uri": "https://localhost:8080/",
          "height": 206
        },
        "outputId": "85266662-54fc-409c-8faf-208d06fb7ccb"
      },
      "outputs": [
        {
          "output_type": "execute_result",
          "data": {
            "text/plain": [
              "       timestamp  visitorid event  itemid  transactionid\n",
              "0  1433221332117     257597  view  355908            NaN\n",
              "1  1433224214164     992329  view  248676            NaN\n",
              "2  1433221999827     111016  view  318965            NaN\n",
              "3  1433221955914     483717  view  253185            NaN\n",
              "4  1433221337106     951259  view  367447            NaN"
            ],
            "text/html": [
              "\n",
              "  <div id=\"df-a0a2440d-7e8a-4fed-8d8a-2e43407062cc\" class=\"colab-df-container\">\n",
              "    <div>\n",
              "<style scoped>\n",
              "    .dataframe tbody tr th:only-of-type {\n",
              "        vertical-align: middle;\n",
              "    }\n",
              "\n",
              "    .dataframe tbody tr th {\n",
              "        vertical-align: top;\n",
              "    }\n",
              "\n",
              "    .dataframe thead th {\n",
              "        text-align: right;\n",
              "    }\n",
              "</style>\n",
              "<table border=\"1\" class=\"dataframe\">\n",
              "  <thead>\n",
              "    <tr style=\"text-align: right;\">\n",
              "      <th></th>\n",
              "      <th>timestamp</th>\n",
              "      <th>visitorid</th>\n",
              "      <th>event</th>\n",
              "      <th>itemid</th>\n",
              "      <th>transactionid</th>\n",
              "    </tr>\n",
              "  </thead>\n",
              "  <tbody>\n",
              "    <tr>\n",
              "      <th>0</th>\n",
              "      <td>1433221332117</td>\n",
              "      <td>257597</td>\n",
              "      <td>view</td>\n",
              "      <td>355908</td>\n",
              "      <td>NaN</td>\n",
              "    </tr>\n",
              "    <tr>\n",
              "      <th>1</th>\n",
              "      <td>1433224214164</td>\n",
              "      <td>992329</td>\n",
              "      <td>view</td>\n",
              "      <td>248676</td>\n",
              "      <td>NaN</td>\n",
              "    </tr>\n",
              "    <tr>\n",
              "      <th>2</th>\n",
              "      <td>1433221999827</td>\n",
              "      <td>111016</td>\n",
              "      <td>view</td>\n",
              "      <td>318965</td>\n",
              "      <td>NaN</td>\n",
              "    </tr>\n",
              "    <tr>\n",
              "      <th>3</th>\n",
              "      <td>1433221955914</td>\n",
              "      <td>483717</td>\n",
              "      <td>view</td>\n",
              "      <td>253185</td>\n",
              "      <td>NaN</td>\n",
              "    </tr>\n",
              "    <tr>\n",
              "      <th>4</th>\n",
              "      <td>1433221337106</td>\n",
              "      <td>951259</td>\n",
              "      <td>view</td>\n",
              "      <td>367447</td>\n",
              "      <td>NaN</td>\n",
              "    </tr>\n",
              "  </tbody>\n",
              "</table>\n",
              "</div>\n",
              "    <div class=\"colab-df-buttons\">\n",
              "\n",
              "  <div class=\"colab-df-container\">\n",
              "    <button class=\"colab-df-convert\" onclick=\"convertToInteractive('df-a0a2440d-7e8a-4fed-8d8a-2e43407062cc')\"\n",
              "            title=\"Convert this dataframe to an interactive table.\"\n",
              "            style=\"display:none;\">\n",
              "\n",
              "  <svg xmlns=\"http://www.w3.org/2000/svg\" height=\"24px\" viewBox=\"0 -960 960 960\">\n",
              "    <path d=\"M120-120v-720h720v720H120Zm60-500h600v-160H180v160Zm220 220h160v-160H400v160Zm0 220h160v-160H400v160ZM180-400h160v-160H180v160Zm440 0h160v-160H620v160ZM180-180h160v-160H180v160Zm440 0h160v-160H620v160Z\"/>\n",
              "  </svg>\n",
              "    </button>\n",
              "\n",
              "  <style>\n",
              "    .colab-df-container {\n",
              "      display:flex;\n",
              "      gap: 12px;\n",
              "    }\n",
              "\n",
              "    .colab-df-convert {\n",
              "      background-color: #E8F0FE;\n",
              "      border: none;\n",
              "      border-radius: 50%;\n",
              "      cursor: pointer;\n",
              "      display: none;\n",
              "      fill: #1967D2;\n",
              "      height: 32px;\n",
              "      padding: 0 0 0 0;\n",
              "      width: 32px;\n",
              "    }\n",
              "\n",
              "    .colab-df-convert:hover {\n",
              "      background-color: #E2EBFA;\n",
              "      box-shadow: 0px 1px 2px rgba(60, 64, 67, 0.3), 0px 1px 3px 1px rgba(60, 64, 67, 0.15);\n",
              "      fill: #174EA6;\n",
              "    }\n",
              "\n",
              "    .colab-df-buttons div {\n",
              "      margin-bottom: 4px;\n",
              "    }\n",
              "\n",
              "    [theme=dark] .colab-df-convert {\n",
              "      background-color: #3B4455;\n",
              "      fill: #D2E3FC;\n",
              "    }\n",
              "\n",
              "    [theme=dark] .colab-df-convert:hover {\n",
              "      background-color: #434B5C;\n",
              "      box-shadow: 0px 1px 3px 1px rgba(0, 0, 0, 0.15);\n",
              "      filter: drop-shadow(0px 1px 2px rgba(0, 0, 0, 0.3));\n",
              "      fill: #FFFFFF;\n",
              "    }\n",
              "  </style>\n",
              "\n",
              "    <script>\n",
              "      const buttonEl =\n",
              "        document.querySelector('#df-a0a2440d-7e8a-4fed-8d8a-2e43407062cc button.colab-df-convert');\n",
              "      buttonEl.style.display =\n",
              "        google.colab.kernel.accessAllowed ? 'block' : 'none';\n",
              "\n",
              "      async function convertToInteractive(key) {\n",
              "        const element = document.querySelector('#df-a0a2440d-7e8a-4fed-8d8a-2e43407062cc');\n",
              "        const dataTable =\n",
              "          await google.colab.kernel.invokeFunction('convertToInteractive',\n",
              "                                                    [key], {});\n",
              "        if (!dataTable) return;\n",
              "\n",
              "        const docLinkHtml = 'Like what you see? Visit the ' +\n",
              "          '<a target=\"_blank\" href=https://colab.research.google.com/notebooks/data_table.ipynb>data table notebook</a>'\n",
              "          + ' to learn more about interactive tables.';\n",
              "        element.innerHTML = '';\n",
              "        dataTable['output_type'] = 'display_data';\n",
              "        await google.colab.output.renderOutput(dataTable, element);\n",
              "        const docLink = document.createElement('div');\n",
              "        docLink.innerHTML = docLinkHtml;\n",
              "        element.appendChild(docLink);\n",
              "      }\n",
              "    </script>\n",
              "  </div>\n",
              "\n",
              "\n",
              "<div id=\"df-1631c668-c076-47dd-896d-4b9ef3d95d0f\">\n",
              "  <button class=\"colab-df-quickchart\" onclick=\"quickchart('df-1631c668-c076-47dd-896d-4b9ef3d95d0f')\"\n",
              "            title=\"Suggest charts\"\n",
              "            style=\"display:none;\">\n",
              "\n",
              "<svg xmlns=\"http://www.w3.org/2000/svg\" height=\"24px\"viewBox=\"0 0 24 24\"\n",
              "     width=\"24px\">\n",
              "    <g>\n",
              "        <path d=\"M19 3H5c-1.1 0-2 .9-2 2v14c0 1.1.9 2 2 2h14c1.1 0 2-.9 2-2V5c0-1.1-.9-2-2-2zM9 17H7v-7h2v7zm4 0h-2V7h2v10zm4 0h-2v-4h2v4z\"/>\n",
              "    </g>\n",
              "</svg>\n",
              "  </button>\n",
              "\n",
              "<style>\n",
              "  .colab-df-quickchart {\n",
              "      --bg-color: #E8F0FE;\n",
              "      --fill-color: #1967D2;\n",
              "      --hover-bg-color: #E2EBFA;\n",
              "      --hover-fill-color: #174EA6;\n",
              "      --disabled-fill-color: #AAA;\n",
              "      --disabled-bg-color: #DDD;\n",
              "  }\n",
              "\n",
              "  [theme=dark] .colab-df-quickchart {\n",
              "      --bg-color: #3B4455;\n",
              "      --fill-color: #D2E3FC;\n",
              "      --hover-bg-color: #434B5C;\n",
              "      --hover-fill-color: #FFFFFF;\n",
              "      --disabled-bg-color: #3B4455;\n",
              "      --disabled-fill-color: #666;\n",
              "  }\n",
              "\n",
              "  .colab-df-quickchart {\n",
              "    background-color: var(--bg-color);\n",
              "    border: none;\n",
              "    border-radius: 50%;\n",
              "    cursor: pointer;\n",
              "    display: none;\n",
              "    fill: var(--fill-color);\n",
              "    height: 32px;\n",
              "    padding: 0;\n",
              "    width: 32px;\n",
              "  }\n",
              "\n",
              "  .colab-df-quickchart:hover {\n",
              "    background-color: var(--hover-bg-color);\n",
              "    box-shadow: 0 1px 2px rgba(60, 64, 67, 0.3), 0 1px 3px 1px rgba(60, 64, 67, 0.15);\n",
              "    fill: var(--button-hover-fill-color);\n",
              "  }\n",
              "\n",
              "  .colab-df-quickchart-complete:disabled,\n",
              "  .colab-df-quickchart-complete:disabled:hover {\n",
              "    background-color: var(--disabled-bg-color);\n",
              "    fill: var(--disabled-fill-color);\n",
              "    box-shadow: none;\n",
              "  }\n",
              "\n",
              "  .colab-df-spinner {\n",
              "    border: 2px solid var(--fill-color);\n",
              "    border-color: transparent;\n",
              "    border-bottom-color: var(--fill-color);\n",
              "    animation:\n",
              "      spin 1s steps(1) infinite;\n",
              "  }\n",
              "\n",
              "  @keyframes spin {\n",
              "    0% {\n",
              "      border-color: transparent;\n",
              "      border-bottom-color: var(--fill-color);\n",
              "      border-left-color: var(--fill-color);\n",
              "    }\n",
              "    20% {\n",
              "      border-color: transparent;\n",
              "      border-left-color: var(--fill-color);\n",
              "      border-top-color: var(--fill-color);\n",
              "    }\n",
              "    30% {\n",
              "      border-color: transparent;\n",
              "      border-left-color: var(--fill-color);\n",
              "      border-top-color: var(--fill-color);\n",
              "      border-right-color: var(--fill-color);\n",
              "    }\n",
              "    40% {\n",
              "      border-color: transparent;\n",
              "      border-right-color: var(--fill-color);\n",
              "      border-top-color: var(--fill-color);\n",
              "    }\n",
              "    60% {\n",
              "      border-color: transparent;\n",
              "      border-right-color: var(--fill-color);\n",
              "    }\n",
              "    80% {\n",
              "      border-color: transparent;\n",
              "      border-right-color: var(--fill-color);\n",
              "      border-bottom-color: var(--fill-color);\n",
              "    }\n",
              "    90% {\n",
              "      border-color: transparent;\n",
              "      border-bottom-color: var(--fill-color);\n",
              "    }\n",
              "  }\n",
              "</style>\n",
              "\n",
              "  <script>\n",
              "    async function quickchart(key) {\n",
              "      const quickchartButtonEl =\n",
              "        document.querySelector('#' + key + ' button');\n",
              "      quickchartButtonEl.disabled = true;  // To prevent multiple clicks.\n",
              "      quickchartButtonEl.classList.add('colab-df-spinner');\n",
              "      try {\n",
              "        const charts = await google.colab.kernel.invokeFunction(\n",
              "            'suggestCharts', [key], {});\n",
              "      } catch (error) {\n",
              "        console.error('Error during call to suggestCharts:', error);\n",
              "      }\n",
              "      quickchartButtonEl.classList.remove('colab-df-spinner');\n",
              "      quickchartButtonEl.classList.add('colab-df-quickchart-complete');\n",
              "    }\n",
              "    (() => {\n",
              "      let quickchartButtonEl =\n",
              "        document.querySelector('#df-1631c668-c076-47dd-896d-4b9ef3d95d0f button');\n",
              "      quickchartButtonEl.style.display =\n",
              "        google.colab.kernel.accessAllowed ? 'block' : 'none';\n",
              "    })();\n",
              "  </script>\n",
              "</div>\n",
              "    </div>\n",
              "  </div>\n"
            ],
            "application/vnd.google.colaboratory.intrinsic+json": {
              "type": "dataframe",
              "variable_name": "events_df"
            }
          },
          "metadata": {},
          "execution_count": 3
        }
      ],
      "source": [
        "events_df.head()"
      ]
    },
    {
      "cell_type": "code",
      "execution_count": 4,
      "metadata": {
        "id": "Wjw1qVg12f4E",
        "colab": {
          "base_uri": "https://localhost:8080/"
        },
        "outputId": "95a58348-69c5-4f96-d615-a8b21f286d12"
      },
      "outputs": [
        {
          "output_type": "execute_result",
          "data": {
            "text/plain": [
              "array(['transaction'], dtype=object)"
            ]
          },
          "metadata": {},
          "execution_count": 4
        }
      ],
      "source": [
        "events_df[events_df.transactionid.notnull()].event.unique()"
      ]
    },
    {
      "cell_type": "code",
      "execution_count": null,
      "metadata": {
        "id": "ttNYvo-C2f4E"
      },
      "outputs": [],
      "source": [
        "events_df[events_df.transactionid.isnull()].event.unique()"
      ]
    },
    {
      "cell_type": "code",
      "execution_count": null,
      "metadata": {
        "id": "g4SzeHQk2f4E"
      },
      "outputs": [],
      "source": [
        "item_properties_1_df.head()"
      ]
    },
    {
      "cell_type": "code",
      "execution_count": null,
      "metadata": {
        "id": "sbHWpMOm2f4F"
      },
      "outputs": [],
      "source": [
        "category_tree_df.head()"
      ]
    },
    {
      "cell_type": "code",
      "execution_count": null,
      "metadata": {
        "id": "fMAmdEFs2f4F"
      },
      "outputs": [],
      "source": [
        "item_properties_1_df.loc[(item_properties_1_df.property == 'categoryid') & (item_properties_1_df.value == '1016')].sort_values('timestamp').head()"
      ]
    },
    {
      "cell_type": "markdown",
      "metadata": {
        "id": "H1TI8zTT2f4G"
      },
      "source": [
        "# Исследование поведения клиентов"
      ]
    },
    {
      "cell_type": "markdown",
      "metadata": {
        "id": "aC6hrhAU2f4H"
      },
      "source": [
        "Разделим клиентов на две группы: те, кто что-то купил и те, кто только изучил инфо"
      ]
    },
    {
      "cell_type": "code",
      "execution_count": null,
      "metadata": {
        "id": "aN_fmHqT2f4H"
      },
      "outputs": [],
      "source": [
        "# Купили что-то\n",
        "customer_purchased = events_df[events_df.transactionid.notnull()].visitorid.unique()\n",
        "customer_purchased.size"
      ]
    },
    {
      "cell_type": "markdown",
      "metadata": {
        "id": "qGq3C6fh2f4I"
      },
      "source": [
        "Будем считать, что 11719 - это число уникальных пользователей, совершивших хотя бы одну покупку"
      ]
    },
    {
      "cell_type": "code",
      "execution_count": null,
      "metadata": {
        "id": "Hsd_V3YZ2f4I"
      },
      "outputs": [],
      "source": [
        "all_customers = events_df.visitorid.unique()\n",
        "all_customers.size"
      ]
    },
    {
      "cell_type": "code",
      "execution_count": null,
      "metadata": {
        "id": "oSnhuSxZ2f4I"
      },
      "outputs": [],
      "source": [
        "customer_browsed = [x for x in all_customers if x not in customer_purchased]"
      ]
    },
    {
      "cell_type": "code",
      "execution_count": null,
      "metadata": {
        "id": "fdKui3Fa2f4I"
      },
      "outputs": [],
      "source": [
        "len(customer_browsed)"
      ]
    },
    {
      "cell_type": "markdown",
      "metadata": {
        "id": "mKsmaH_a2f4J"
      },
      "source": [
        "Таким образом, на сайте было 1 395 861 уникальных посетитель, которые ничего не купили"
      ]
    },
    {
      "cell_type": "markdown",
      "metadata": {
        "id": "C0ELSGmp2f4J"
      },
      "source": [
        "# Будем предлагать пользователю отели, которые купили другие пользователи, которые просматривали такие же товары"
      ]
    },
    {
      "cell_type": "code",
      "execution_count": null,
      "metadata": {
        "id": "WYgQfuuo2f4J"
      },
      "outputs": [],
      "source": [
        "# датафрейм с посетителями совершивших покупку\n",
        "customer_purchased = events_df[events_df.transactionid.notnull()].visitorid.unique()\n",
        "\n",
        "purchased_items = []\n",
        "\n",
        "# Список их покупок\n",
        "for customer in customer_purchased:\n",
        "    purchased_items.append(list(events_df.loc[(events_df.visitorid == customer) & (events_df.transactionid.notnull())].itemid.values))"
      ]
    },
    {
      "cell_type": "code",
      "execution_count": null,
      "metadata": {
        "id": "S4ns_DgJ2f4J"
      },
      "outputs": [],
      "source": [
        "purchased_items[:5]"
      ]
    },
    {
      "cell_type": "code",
      "execution_count": null,
      "metadata": {
        "id": "wh5MRVp62f4J"
      },
      "outputs": [],
      "source": [
        "# Функция показывающая покупки совершенные одним пользователям\n",
        "def recommender_bought_bought(item_id, purchased_items):\n",
        "    recommender_list = []\n",
        "    for x in purchased_items:\n",
        "        if item_id in x:\n",
        "            recommender_list += x\n",
        "    recommender_list = list(set(recommender_list) - set([item_id]))\n",
        "\n",
        "    return recommender_list"
      ]
    },
    {
      "cell_type": "code",
      "execution_count": null,
      "metadata": {
        "id": "7tzoJMGQ2f4J"
      },
      "outputs": [],
      "source": [
        "recommender_bought_bought(302422, purchased_items)"
      ]
    },
    {
      "cell_type": "code",
      "execution_count": null,
      "metadata": {
        "id": "jpaI9Oy42f4J"
      },
      "outputs": [],
      "source": [
        "all_visitors = events_df.visitorid.sort_values().unique()\n",
        "all_visitors.size"
      ]
    },
    {
      "cell_type": "code",
      "execution_count": null,
      "metadata": {
        "id": "901yT05H2f4K"
      },
      "outputs": [],
      "source": [
        "buying_visitors = events_df[events_df.event == 'transaction'].visitorid.sort_values().unique()\n",
        "buying_visitors.size"
      ]
    },
    {
      "cell_type": "markdown",
      "metadata": {
        "id": "E6FBptne2f4K"
      },
      "source": [
        "Out of 1,407,580 visitors, ony 11,719 bought something so around 1,395,861 visitors just viewed items"
      ]
    },
    {
      "cell_type": "code",
      "execution_count": null,
      "metadata": {
        "id": "ggvXmkMH2f4K"
      },
      "outputs": [],
      "source": [
        "viewing_visitors_list = list(set(all_visitors) - set(buying_visitors))\n"
      ]
    },
    {
      "cell_type": "code",
      "execution_count": null,
      "metadata": {
        "id": "7kbeXaJ42f4K"
      },
      "outputs": [],
      "source": [
        "# Функция создающая новый датсет с метриками\n",
        "def create_dataframe(visitor_list):\n",
        "\n",
        "    array_for_df = []\n",
        "    for index in visitor_list:\n",
        "\n",
        "\n",
        "        v_df = events_df[events_df.visitorid == index]\n",
        "\n",
        "        temp = []\n",
        "\n",
        "        temp.append(index)\n",
        "\n",
        "\n",
        "        temp.append(v_df[v_df.event == 'view'].itemid.unique().size)\n",
        "\n",
        "\n",
        "        temp.append(v_df[v_df.event == 'view'].event.count())\n",
        "\n",
        "\n",
        "        number_of_items_bought = v_df[v_df.event == 'transaction'].event.count()\n",
        "        temp.append(number_of_items_bought)\n",
        "\n",
        "\n",
        "        if(number_of_items_bought == 0):\n",
        "            temp.append(0)\n",
        "        else:\n",
        "            temp.append(1)\n",
        "\n",
        "        array_for_df.append(temp)\n",
        "\n",
        "    return pd.DataFrame(array_for_df, columns=['visitorid', 'num_items_viewed', 'view_count', 'bought_count', 'purchased'])"
      ]
    },
    {
      "cell_type": "markdown",
      "metadata": {
        "id": "lCGy8mp52f4K"
      },
      "source": [
        "Создадим датасет с метриками тех, кто хоть что-то купил"
      ]
    },
    {
      "cell_type": "code",
      "execution_count": null,
      "metadata": {
        "id": "-0wFyzRt2f4K"
      },
      "outputs": [],
      "source": [
        "buying_visitors_df = create_dataframe(buying_visitors)"
      ]
    },
    {
      "cell_type": "code",
      "execution_count": null,
      "metadata": {
        "id": "pBgCO-k82f4K"
      },
      "outputs": [],
      "source": [
        "buying_visitors_df.shape"
      ]
    },
    {
      "cell_type": "markdown",
      "metadata": {
        "id": "f8QHDBM12f4L"
      },
      "source": [
        "разделим датасет на 70/30"
      ]
    },
    {
      "cell_type": "code",
      "execution_count": null,
      "metadata": {
        "id": "Rp4WZMLE2f4L",
        "scrolled": true
      },
      "outputs": [],
      "source": [
        "import random\n",
        "random.shuffle(viewing_visitors_list)"
      ]
    },
    {
      "cell_type": "code",
      "execution_count": null,
      "metadata": {
        "id": "UokiNE3i2f4L"
      },
      "outputs": [],
      "source": [
        "viewing_visitors_df = create_dataframe(viewing_visitors_list[0:27820])"
      ]
    },
    {
      "cell_type": "code",
      "execution_count": null,
      "metadata": {
        "id": "84G1bkvg2f4L"
      },
      "outputs": [],
      "source": [
        "viewing_visitors_df.shape"
      ]
    },
    {
      "cell_type": "markdown",
      "metadata": {
        "id": "rHCQ-Det2f4L"
      },
      "source": [
        "Соединяем датасеты"
      ]
    },
    {
      "cell_type": "code",
      "execution_count": null,
      "metadata": {
        "id": "J1S0U1xv2f4L"
      },
      "outputs": [],
      "source": [
        "main_df = pd.concat([buying_visitors_df, viewing_visitors_df], ignore_index=True)"
      ]
    },
    {
      "cell_type": "code",
      "execution_count": null,
      "metadata": {
        "id": "CAyOrB__2f4L"
      },
      "outputs": [],
      "source": [
        "main_df = main_df.sample(frac=1)"
      ]
    },
    {
      "cell_type": "code",
      "execution_count": null,
      "metadata": {
        "id": "O-Ie3s8I2f4L"
      },
      "outputs": [],
      "source": [
        "sns.pairplot(main_df, x_vars = ['num_items_viewed', 'view_count', 'bought_count'],\n",
        "             y_vars = ['num_items_viewed', 'view_count', 'bought_count'],  hue = 'purchased');"
      ]
    },
    {
      "cell_type": "markdown",
      "metadata": {
        "id": "zXbTxBJF2f4L"
      },
      "source": [
        "чем выше количество просмотров, тем выше вероятность того, что посетитель что-то купит."
      ]
    },
    {
      "cell_type": "markdown",
      "metadata": {
        "id": "4LGiHZAo2f4M"
      },
      "source": [
        "# Поскольку связь линейная, используем модель логистической регрессии, чтобы предсказать покупательское поведение будущих посетителей."
      ]
    },
    {
      "cell_type": "code",
      "execution_count": null,
      "metadata": {
        "id": "CXZdy5612f4P"
      },
      "outputs": [],
      "source": [
        "X = main_df.drop(['purchased', 'visitorid', 'bought_count'], axis = 'columns')\n",
        "y = main_df.purchased"
      ]
    },
    {
      "cell_type": "code",
      "execution_count": null,
      "metadata": {
        "id": "uz5_9sv62f4P"
      },
      "outputs": [],
      "source": [
        "X_train, X_test, y_train, y_test = train_test_split(X, y, random_state = 42, train_size = 0.7)"
      ]
    },
    {
      "cell_type": "code",
      "execution_count": null,
      "metadata": {
        "id": "9qPVGDMY2f4P"
      },
      "outputs": [],
      "source": [
        "logreg = LogisticRegression()"
      ]
    },
    {
      "cell_type": "code",
      "execution_count": null,
      "metadata": {
        "id": "6YgrhWMB2f4Q"
      },
      "outputs": [],
      "source": [
        "logreg.fit(X_train, y_train)"
      ]
    },
    {
      "cell_type": "code",
      "execution_count": null,
      "metadata": {
        "id": "WS-QNPDF2f4Q"
      },
      "outputs": [],
      "source": [
        "\n",
        "y_pred_class = logreg.predict(X_test)"
      ]
    },
    {
      "cell_type": "code",
      "execution_count": null,
      "metadata": {
        "id": "-FEbzuPu2f4Q"
      },
      "outputs": [],
      "source": [
        "print('accuracy = {:7.4f}'.format(metrics.accuracy_score(y_test, y_pred_class)))"
      ]
    },
    {
      "cell_type": "markdown",
      "metadata": {
        "id": "8rUcbkJI2f4Q"
      },
      "source": [
        "# точность нашей модели в прогнозировании посетителей-покупателей составляет около 80%."
      ]
    },
    {
      "cell_type": "code",
      "execution_count": null,
      "metadata": {
        "id": "ohXIAFJv2f4Q",
        "scrolled": true
      },
      "outputs": [],
      "source": [
        "# Generate the prediction values for each of the test observations using predict_proba() function rather than just predict\n",
        "preds = logreg.predict_proba(X_test)[:,1]\n",
        "\n",
        "# Store the false positive rate(fpr), true positive rate (tpr) in vectors for use in the graph\n",
        "fpr, tpr, _ = metrics.roc_curve(y_test, preds)\n",
        "\n",
        "# Store the Area Under the Curve (AUC) so we can annotate our graph with theis metric\n",
        "roc_auc = metrics.auc(fpr, tpr)\n",
        "\n",
        "# Plot the ROC Curve\n",
        "plt.figure()\n",
        "lw = 2\n",
        "plt.plot(fpr, tpr, color='darkorange', lw = lw, label = 'ROC curve (area = %0.2f)' % roc_auc)\n",
        "plt.plot([0, 1], [0, 1], color = 'navy', lw = lw, linestyle = '--')\n",
        "plt.xlim([0.0, 1.0])\n",
        "plt.ylim([0.0, 1.05])\n",
        "plt.xlabel('False Positive Rate')\n",
        "plt.ylabel('True Positive Rate')\n",
        "plt.title('Receiver operating characteristic')\n",
        "plt.legend(loc = \"lower right\")\n",
        "plt.show()"
      ]
    },
    {
      "cell_type": "markdown",
      "metadata": {
        "id": "6jYNR1UN2f4Q"
      },
      "source": [
        "На графике выше показана точность нашего бинарного классификатора (логистическая регрессия). Это просто означает, что чем ближе оранжевая кривая наклоняется к верхней левой части графика, тем выше точность."
      ]
    },
    {
      "cell_type": "markdown",
      "metadata": {
        "id": "pXgpL90l2f4Q"
      },
      "source": [
        "# Распределение событий во времени для выявления закономерностей во взаимодействиях с пользователем."
      ]
    },
    {
      "cell_type": "code",
      "execution_count": null,
      "metadata": {
        "id": "tm9PfYni2f4Q"
      },
      "outputs": [],
      "source": [
        "import matplotlib.pyplot as plt\n",
        "import seaborn as sns\n",
        "\n",
        "\n",
        "events_df['timestamp'] = pd.to_datetime(events_df['timestamp'], unit='ms')\n",
        "\n",
        "events_df['day_of_week'] = events_df['timestamp'].dt.day_name()\n",
        "events_df['hour'] = events_df['timestamp'].dt.hour\n",
        "\n",
        "plt.figure(figsize=(24, 16))\n",
        "\n",
        "plt.subplot(2, 1, 1)\n",
        "ax1 = sns.countplot(data=events_df, x='day_of_week', order=events_df['day_of_week'].value_counts().index)\n",
        "plt.title('Распределение событий по дням недели')\n",
        "for p in ax1.patches:\n",
        "    ax1.annotate(format(p.get_height(), '.0f'), (p.get_x() + p.get_width() / 2., p.get_height()), ha = 'center', va = 'center', xytext = (0, 9), textcoords = 'offset points')\n",
        "\n",
        "plt.subplot(2, 1, 2)\n",
        "ax2 = sns.countplot(data=events_df, x='hour', order=events_df['hour'].value_counts().index)\n",
        "plt.title('Распределение событий по часам дня')\n",
        "for p in ax2.patches:\n",
        "    ax2.annotate(format(p.get_height(), '.0f'), (p.get_x() + p.get_width() / 2., p.get_height()), ha = 'center', va = 'center', xytext = (0, 9), textcoords = 'offset points')\n",
        "\n",
        "plt.tight_layout()\n",
        "plt.show()"
      ]
    },
    {
      "cell_type": "code",
      "execution_count": null,
      "metadata": {
        "id": "fm_LVtEV2f4Q"
      },
      "outputs": [],
      "source": [
        "events_df['transactionid'].fillna(0, inplace=True)"
      ]
    },
    {
      "cell_type": "code",
      "execution_count": null,
      "metadata": {
        "id": "7wy9jnIr2f4Q"
      },
      "outputs": [],
      "source": [
        "events_df['itemid'].fillna(0, inplace=True)"
      ]
    },
    {
      "cell_type": "code",
      "execution_count": null,
      "metadata": {
        "id": "AuZPIbPD2f4R"
      },
      "outputs": [],
      "source": [
        "main_df.head()"
      ]
    },
    {
      "cell_type": "code",
      "execution_count": null,
      "metadata": {
        "id": "0FAdgTZM2f4R"
      },
      "outputs": [],
      "source": [
        "\n",
        "user_interaction_counts = events_df.groupby('visitorid')['event'].count().reset_index()\n",
        "user_interaction_counts.rename(columns={'event': 'total_events_user'}, inplace=True)\n",
        "\n",
        "item_interaction_counts = events_df.groupby('itemid')['event'].count().reset_index()\n",
        "item_interaction_counts.rename(columns={'event': 'total_events_item'}, inplace=True)\n",
        "\n",
        "# Calculate total number of unique items interacted with by each user\n",
        "user_unique_items = events_df.groupby('visitorid')['itemid'].nunique().reset_index()\n",
        "user_unique_items.rename(columns={'itemid': 'unique_items_interacted'}, inplace=True)\n",
        "\n",
        "# Calculate total number of unique users interacting with each item\n",
        "item_unique_users = events_df.groupby('itemid')['visitorid'].nunique().reset_index()\n",
        "item_unique_users.rename(columns={'visitorid': 'unique_users_interacted'}, inplace=True)\n",
        "\n",
        "events_df = events_df.merge(user_interaction_counts, on='visitorid', how='left')\n",
        "events_df = events_df.merge(item_interaction_counts, on='itemid', how='left')\n",
        "events_df = events_df.merge(user_unique_items, on='visitorid', how='left')\n",
        "events_df = events_df.merge(item_unique_users, on='itemid', how='left')"
      ]
    },
    {
      "cell_type": "code",
      "execution_count": null,
      "metadata": {
        "id": "uVgkYHE-2f4R"
      },
      "outputs": [],
      "source": [
        "events_df.head()"
      ]
    },
    {
      "cell_type": "markdown",
      "metadata": {
        "id": "uINNbTFA2f4R"
      },
      "source": [
        "Создадим матрицу действий"
      ]
    },
    {
      "cell_type": "code",
      "execution_count": null,
      "metadata": {
        "id": "4PLsyERz2f4R"
      },
      "outputs": [],
      "source": [
        "import pandas as pd\n",
        "import numpy as np\n",
        "from scipy.sparse import csr_matrix\n",
        "\n",
        "events_df['interaction_value'] = events_df['event'].apply(lambda x: 0.4 if x == 'view' else (0.6 if x == 'addtocart' else 0.8))\n",
        "\n",
        "item_index_map = {item: idx for idx, item in enumerate(events_df['itemid'].unique())}\n",
        "visitor_index_map = {visitor: idx for idx, visitor in enumerate(events_df['visitorid'].unique())}\n",
        "\n",
        "row_indices = [visitor_index_map[visitor] for visitor in events_df['visitorid']]\n",
        "col_indices = [item_index_map[item] for item in events_df['itemid']]\n",
        "interaction_values = events_df['interaction_value']\n",
        "\n",
        "interaction_matrix = csr_matrix((interaction_values, (row_indices, col_indices)),\n",
        "                                 shape=(len(visitor_index_map), len(item_index_map)))\n",
        "\n",
        "print(interaction_matrix)\n",
        "# код выводит разреженную матрицу interaction_matrix,\n",
        "# которая представляет собой матрицу взаимодействия между посетителями (строки) и товарами (столбцы)\n",
        "# на основе значений в столбце 'interaction_value"
      ]
    },
    {
      "cell_type": "code",
      "execution_count": null,
      "metadata": {
        "id": "sO03UAeg-Y5j"
      },
      "outputs": [],
      "source": [
        "from sklearn.metrics.pairwise import cosine_similarity\n",
        "\n",
        "# Вычисление сходства пользователей\n",
        "user_similarity = cosine_similarity(interaction_matrix)\n",
        "\n",
        "# Создание функции для получения рекомендаций для конкретного пользователя\n",
        "def get_recommendations(visitorid, num_recommendations=5):\n",
        "    # Находим наиболее похожих пользователей\n",
        "    similar_users = user_similarity[visitorid]\n",
        "    similar_users_idx = similar_users.argsort()[::-1][1:]  # Исключаем самого пользователя\n",
        "\n",
        "    # Получаем товары, с которыми взаимодействовали похожие пользователи\n",
        "    recommendations = set()\n",
        "    for similar_user_idx in similar_users_idx:\n",
        "        similar_user_actions = interaction_matrix[similar_user_idx]\n",
        "        new_recommendations = set(events_df.loc[similar_user_actions > 0, 'itemid'])\n",
        "        recommendations.update(new_recommendations)\n",
        "        if len(recommendations) >= num_recommendations:\n",
        "            break\n",
        "\n",
        "    # Исключаем товары, с которыми пользователь уже взаимодействовал\n",
        "    user_actions = interaction_matrix[visitorid]\n",
        "    recommendations.difference_update(set(events_df.loc[user_actions > 0, 'itemid']))\n",
        "\n",
        "    return list(recommendations)[:num_recommendations]"
      ]
    },
    {
      "cell_type": "code",
      "execution_count": null,
      "metadata": {
        "id": "Qb7pzQOg2f4R"
      },
      "outputs": [],
      "source": [
        "%pip install scikit-surprise\n"
      ]
    },
    {
      "cell_type": "code",
      "execution_count": null,
      "metadata": {
        "id": "pMplEXgN2f4R"
      },
      "outputs": [],
      "source": [
        "from surprise import SVD\n",
        "from surprise import Dataset\n",
        "from surprise import Reader\n",
        "from surprise.model_selection import cross_validate\n",
        "\n",
        "reader = Reader(rating_scale=(0, 1))\n",
        "data = Dataset.load_from_df(events_df[['visitorid', 'itemid', 'interaction_value']], reader)\n",
        "\n",
        "model = SVD()\n",
        "\n",
        "cross_validate(model, data, measures=['RMSE', 'MAE'], cv=5, verbose=True)\n",
        "\n",
        "trainset = data.build_full_trainset()\n",
        "model.fit(trainset)"
      ]
    },
    {
      "cell_type": "code",
      "execution_count": null,
      "metadata": {
        "id": "kYX7nma7F7gn"
      },
      "outputs": [],
      "source": [
        "from surprise.model_selection import GridSearchCV\n",
        "\n",
        "param_grid = {'n_epochs': [5, 10, 15], 'lr_all': [0.002, 0.005, 0.01],\n",
        "              'reg_all': [0.4, 0.6, 0.8]}\n",
        "gs = GridSearchCV(SVD, param_grid, measures=['rmse', 'mae'], cv=3)\n",
        "\n",
        "gs.fit(data)\n",
        "\n",
        "print(gs.best_params['rmse'])"
      ]
    },
    {
      "cell_type": "code",
      "execution_count": null,
      "metadata": {
        "id": "zFoqyTSA2f4R"
      },
      "outputs": [],
      "source": [
        "from surprise.dump import dump\n",
        "\n",
        "model_filename = 'trained_model.pkl'\n",
        "dump(model_filename, algo=model)"
      ]
    },
    {
      "cell_type": "code",
      "execution_count": null,
      "metadata": {
        "id": "9BwSYxT44zPy"
      },
      "outputs": [],
      "source": [
        "from surprise.dump import load\n",
        "\n",
        "loaded_model = load(model_filename)[1]"
      ]
    },
    {
      "cell_type": "code",
      "execution_count": null,
      "metadata": {
        "id": "SxOtDE5i42D9"
      },
      "outputs": [],
      "source": [
        "def get_top_n_recommendations(model, user_id, num_items, n=10):\n",
        "    recommendations = []\n",
        "    for item_id in range(1, num_items + 1):\n",
        "        prediction = model.predict(user_id, item_id)\n",
        "        recommendations.append((item_id, prediction.est))\n",
        "\n",
        "    # Sort recommendations by estimated rating\n",
        "    recommendations.sort(key=lambda x: x[1], reverse=True)\n",
        "\n",
        "    top_n_recommendations = recommendations[:n]\n",
        "    return top_n_recommendations\n",
        "\n",
        "user_id = 10\n",
        "num_items = events_df['itemid'].nunique()\n",
        "top_recommendations = get_top_n_recommendations(loaded_model, user_id, num_items, n=5)\n",
        "print(\"Лучшие рекомендации для пользователей\", user_id)\n",
        "for item_id, estimated_rating in top_recommendations:\n",
        "    print(\"Item:\", item_id, \"Предполагаемый рейтинг по продукту:\", estimated_rating)"
      ]
    },
    {
      "cell_type": "code",
      "execution_count": null,
      "metadata": {
        "id": "9IjOg2jT8vbr"
      },
      "outputs": [],
      "source": [
        "user_id = 200\n",
        "num_items = events_df['itemid'].nunique()\n",
        "top_recommendations = get_top_n_recommendations(loaded_model, user_id, num_items, n=10)\n",
        "print(\"Лучшие рекомендации для пользователей\", user_id)\n",
        "for item_id, estimated_rating in top_recommendations:\n",
        "    print(\"Item:\", item_id, \"Предполагаемый рейтинг по продукту:\", estimated_rating)"
      ]
    },
    {
      "cell_type": "code",
      "execution_count": null,
      "metadata": {
        "id": "YQ-i3r2s2f4R"
      },
      "outputs": [],
      "source": [
        "#%pip install tensorflow"
      ]
    },
    {
      "cell_type": "code",
      "execution_count": null,
      "metadata": {
        "id": "YKcp76Gb2f4S"
      },
      "outputs": [],
      "source": [
        "import pandas as pd\n",
        "import numpy as np\n",
        "from sklearn.model_selection import train_test_split\n",
        "from sklearn.metrics import mean_squared_error\n",
        "from sklearn.neighbors import NearestNeighbors\n",
        "import tensorflow as tf\n",
        "from tensorflow import keras\n"
      ]
    },
    {
      "cell_type": "code",
      "execution_count": null,
      "metadata": {
        "id": "6067Fekl8A5B"
      },
      "outputs": [],
      "source": [
        "# Создание модели нейронной сети\n",
        "model = keras.Sequential([\n",
        "    keras.layers.Embedding(user_interaction_counts, embedding_dim, input_length=user_item_matrix.shape[1]),\n",
        "    keras.layers.Flatten(),\n",
        "    keras.layers.Dense(16, activation='relu'),\n",
        "    keras.layers.Dense(1, activation='linear')\n",
        "])\n",
        "\n",
        "# Компиляция модели\n",
        "model.compile(optimizer='adam', loss='mean_squared_error')"
      ]
    },
    {
      "cell_type": "code",
      "execution_count": null,
      "metadata": {
        "id": "teA33c3wEKFl"
      },
      "outputs": [],
      "source": [
        "data = Dataset.load_from_df(events_df[['visitorid', 'itemid', 'interaction_value']], reader)"
      ]
    },
    {
      "cell_type": "code",
      "execution_count": null,
      "metadata": {
        "id": "1ItygzXsDfEG"
      },
      "outputs": [],
      "source": [
        "# Разделение данных на обучающий и тестовый наборы\n",
        "train_data, test_data = train_test_split(events_df[['visitorid', 'itemid', 'interaction_value']], test_size=0.2, random_state=42)\n",
        "\n",
        "# Обучение модели\n",
        "history = model.fit(x=[train_data['visitorid'], train_data['itemid']], y=train_data['interaction_value'],\n",
        "                    epochs=10, batch_size=64, validation_data=([test_data['visitorid'], test_data['itemid']], test_data['interaction_value']))\n",
        "\n",
        "# Оценка модели\n",
        "predictions = model.predict([test_data['visitorid'], test_data['itemid']])\n",
        "mse = mean_squared_error(test_data['interaction_value'], predictions)\n",
        "print(f'Mean Squared Error: {mse}')"
      ]
    },
    {
      "cell_type": "code",
      "execution_count": null,
      "metadata": {
        "id": "DpGWxBdo2f4S"
      },
      "outputs": [],
      "source": [
        "events_df['timestamp'] = pd.to_datetime(events_df['timestamp'], unit='ms')"
      ]
    },
    {
      "cell_type": "code",
      "execution_count": null,
      "metadata": {
        "id": "obQORamM2f4S"
      },
      "outputs": [],
      "source": [
        "merged_data = pd.merge(data, user_data, on='user_id').merge(item_data, on='item_id')"
      ]
    },
    {
      "cell_type": "code",
      "execution_count": null,
      "metadata": {
        "id": "uqtkJKIk2f4S"
      },
      "outputs": [],
      "source": []
    }
  ],
  "metadata": {
    "colab": {
      "provenance": [],
      "include_colab_link": true
    },
    "kernelspec": {
      "display_name": "Python 3 (ipykernel)",
      "language": "python",
      "name": "python3"
    },
    "language_info": {
      "codemirror_mode": {
        "name": "ipython",
        "version": 3
      },
      "file_extension": ".py",
      "mimetype": "text/x-python",
      "name": "python",
      "nbconvert_exporter": "python",
      "pygments_lexer": "ipython3",
      "version": "3.10.9"
    }
  },
  "nbformat": 4,
  "nbformat_minor": 0
}